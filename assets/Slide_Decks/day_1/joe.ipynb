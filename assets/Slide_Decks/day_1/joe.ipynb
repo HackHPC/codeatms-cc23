{
  "nbformat": 4,
  "nbformat_minor": 0,
  "metadata": {
    "colab": {
      "provenance": []
    },
    "kernelspec": {
      "name": "python3",
      "display_name": "Python 3"
    },
    "language_info": {
      "name": "python"
    }
  },
  "cells": [
    {
      "cell_type": "code",
      "execution_count": null,
      "metadata": {
        "colab": {
          "base_uri": "https://localhost:8080/"
        },
        "id": "IuI82a6hrWhw",
        "outputId": "f842656d-d48e-44f3-fdd4-c7a9f26babd0"
      },
      "outputs": [
        {
          "output_type": "stream",
          "name": "stdout",
          "text": [
            "Hello World!\n"
          ]
        }
      ],
      "source": [
        "print(\"Hello World!\")"
      ]
    },
    {
      "cell_type": "code",
      "source": [],
      "metadata": {
        "id": "J1mYStK0rsjV"
      },
      "execution_count": null,
      "outputs": []
    },
    {
      "cell_type": "markdown",
      "source": [
        "We have Joe!\n",
        "* Joe can get sick\n",
        "* If Joe gets sick, Joe will be sick for 5 days\n",
        "* After 5 days, Joe recovers and can no longer get sick\n",
        "\n",
        "Joe goes through:\n",
        "* Susceptible\n",
        "* Infected\n",
        "* Recovered\n",
        "\n",
        "\n"
      ],
      "metadata": {
        "id": "tVzp4Db9FyE2"
      }
    },
    {
      "cell_type": "markdown",
      "source": [],
      "metadata": {
        "id": "Pm6m_kC-FRZx"
      }
    },
    {
      "cell_type": "code",
      "source": [
        "import random\n",
        "\n",
        "state_of_joe = \"Susceptible\"\n",
        "state_of_jane = \"Susceptible\"\n",
        "print (\"Joe licked the door knob\", state_of_joe)\n",
        "\n",
        "\n",
        "# we need something to get us a probablity\n",
        "# we need a random number!\n",
        "chance_of_getting_sick = random.randint(0,100)\n",
        "print(chance_of_getting_sick)\n",
        "if (chance_of_getting_sick < 10):\n",
        "  state_of_joe = \"Infected\"\n",
        "  print (\"Joe is\", state_of_joe)\n",
        "\n",
        "if (state_of_joe == \"Infected\"):\n",
        "  for day in range(0, 5):\n",
        "    print (\"Joe is sick, day:\", day)\n",
        "\n",
        "  state_of_joe = \"Recovered\"\n",
        "  print (\"Joe is now\", state_of_joe)\n",
        "\n",
        "\n",
        "\n",
        "\n",
        "\n",
        "\n"
      ],
      "metadata": {
        "colab": {
          "base_uri": "https://localhost:8080/"
        },
        "id": "NnkDFaJDG7A9",
        "outputId": "544c56b6-0ce5-41e7-fa6b-ccc7f7a8ea17"
      },
      "execution_count": null,
      "outputs": [
        {
          "output_type": "stream",
          "name": "stdout",
          "text": [
            "Joe licked the door knob Susceptible\n",
            "4\n",
            "Joe is Infected\n",
            "Joe is sick, day: 0\n",
            "Joe is sick, day: 1\n",
            "Joe is sick, day: 2\n",
            "Joe is sick, day: 3\n",
            "Joe is sick, day: 4\n",
            "Joe is now Recovered\n"
          ]
        }
      ]
    },
    {
      "cell_type": "code",
      "source": [
        "import random\n",
        "\n",
        "class Person():\n",
        "  def __init__(self):\n",
        "    self.current_state = \"Susceptible\"\n",
        "    self.days_sick = 0\n",
        "    self.is_sick = False\n",
        "    self.interactions = []\n",
        "\n",
        "  def get_current_state(self):\n",
        "    return self.current_state\n",
        "\n",
        "  def infect(self, days):\n",
        "    self.current_state = \"Infected\"\n",
        "    self.days_sick = days\n",
        "    self.is_sick = True\n",
        "\n",
        "  def update(self):\n",
        "    if (self.current_state == \"Infected\"):\n",
        "      \n",
        "      ##If Joe is sick, then people he interacted with might get sick\n",
        "      for folkses in self.interactions:\n",
        "        if (folkses.is_sick == False and folkses.current_state == \"Susceptible\"):\n",
        "          roll_for_infection = random.randint(0,100)\n",
        "          if (roll_for_infection <= 10):\n",
        "            folkses.infect(5)\n",
        "\n",
        "      ##If Joe is sick, we need to update Joe's state\n",
        "      self.days_sick = self.days_sick - 1\n",
        "      if (self.days_sick < 0):\n",
        "        self.current_state = \"Recovered\"\n",
        "        self.is_sick = False\n",
        "\n",
        "  def interacts_with(self, Person):\n",
        "    self.interactions.append(Person)\n",
        "  \n",
        "  def clear_interactions(self):\n",
        "    self.interactions = []\n",
        " "
      ],
      "metadata": {
        "id": "yPry4A-gKs4i"
      },
      "execution_count": null,
      "outputs": []
    },
    {
      "cell_type": "code",
      "source": [
        "Joe = Person()\n"
      ],
      "metadata": {
        "id": "Nh3eqoWGQwms"
      },
      "execution_count": null,
      "outputs": []
    },
    {
      "cell_type": "code",
      "source": [
        "Joe.infect(5)\n",
        "print(Joe.get_current_state())\n",
        "print(Joe.is_sick)\n",
        "print(Joe.days_sick)"
      ],
      "metadata": {
        "colab": {
          "base_uri": "https://localhost:8080/"
        },
        "id": "NeBKQGO9Sinb",
        "outputId": "8533afbb-41d7-4076-b1f4-83ee325539e5"
      },
      "execution_count": null,
      "outputs": [
        {
          "output_type": "stream",
          "name": "stdout",
          "text": [
            "Infected\n",
            "True\n",
            "5\n"
          ]
        }
      ]
    },
    {
      "cell_type": "code",
      "source": [
        "Joe.update()\n",
        "print(Joe.get_current_state())\n",
        "print(Joe.is_sick)\n",
        "print(Joe.days_sick)\n"
      ],
      "metadata": {
        "colab": {
          "base_uri": "https://localhost:8080/"
        },
        "id": "cdYsxJvFTBSy",
        "outputId": "2e48f0a0-d38f-470a-84b1-f75fa858d833"
      },
      "execution_count": null,
      "outputs": [
        {
          "output_type": "stream",
          "name": "stdout",
          "text": [
            "Infected\n",
            "True\n",
            "4\n"
          ]
        }
      ]
    },
    {
      "cell_type": "code",
      "source": [
        "Joe = Person()\n",
        "Jane = Person()\n",
        "Fred = Person()\n",
        "\n",
        "Joe.interacts_with(Jane)\n",
        "\n",
        "day = 0\n",
        "while(Jane.get_current_state() != \"Recovered\"):\n",
        "  day = day + 1\n",
        "  \n",
        "  roll_for_infection = random.randint(0,100)\n",
        "  if (roll_for_infection < 10 and Joe.get_current_state() == \"Susceptible\"):\n",
        "    Joe.infect(5)\n",
        "\n",
        "  Joe.update()\n",
        "  Jane.update()\n",
        "\n",
        "  print (\"day:\", day, \"Joe's current state:\", Joe.get_current_state())\n",
        "  print (\"day:\", day, \"Jane's current state:\", Jane.get_current_state())\n",
        "\n",
        "  if (Joe.get_current_state() == \"Recovered\" and Jane.get_current_state() == \"Susceptible\"):\n",
        "    Joe.current_state = \"Susceptible\"\n",
        "  "
      ],
      "metadata": {
        "colab": {
          "base_uri": "https://localhost:8080/"
        },
        "id": "Z10tGhgZTaO5",
        "outputId": "a69d09ee-c96e-4775-cd83-c91426586da2"
      },
      "execution_count": null,
      "outputs": [
        {
          "output_type": "stream",
          "name": "stdout",
          "text": [
            "day: 1 Joe's current state: Susceptible\n",
            "day: 1 Jane's current state: Susceptible\n",
            "day: 2 Joe's current state: Susceptible\n",
            "day: 2 Jane's current state: Susceptible\n",
            "day: 3 Joe's current state: Susceptible\n",
            "day: 3 Jane's current state: Susceptible\n",
            "day: 4 Joe's current state: Susceptible\n",
            "day: 4 Jane's current state: Susceptible\n",
            "day: 5 Joe's current state: Susceptible\n",
            "day: 5 Jane's current state: Susceptible\n",
            "day: 6 Joe's current state: Susceptible\n",
            "day: 6 Jane's current state: Susceptible\n",
            "day: 7 Joe's current state: Susceptible\n",
            "day: 7 Jane's current state: Susceptible\n",
            "day: 8 Joe's current state: Susceptible\n",
            "day: 8 Jane's current state: Susceptible\n",
            "day: 9 Joe's current state: Susceptible\n",
            "day: 9 Jane's current state: Susceptible\n",
            "day: 10 Joe's current state: Infected\n",
            "day: 10 Jane's current state: Susceptible\n",
            "day: 11 Joe's current state: Infected\n",
            "day: 11 Jane's current state: Susceptible\n",
            "day: 12 Joe's current state: Infected\n",
            "day: 12 Jane's current state: Susceptible\n",
            "day: 13 Joe's current state: Infected\n",
            "day: 13 Jane's current state: Susceptible\n",
            "day: 14 Joe's current state: Infected\n",
            "day: 14 Jane's current state: Infected\n",
            "day: 15 Joe's current state: Recovered\n",
            "day: 15 Jane's current state: Infected\n",
            "day: 16 Joe's current state: Recovered\n",
            "day: 16 Jane's current state: Infected\n",
            "day: 17 Joe's current state: Recovered\n",
            "day: 17 Jane's current state: Infected\n",
            "day: 18 Joe's current state: Recovered\n",
            "day: 18 Jane's current state: Infected\n",
            "day: 19 Joe's current state: Recovered\n",
            "day: 19 Jane's current state: Recovered\n"
          ]
        }
      ]
    },
    {
      "cell_type": "code",
      "source": [
        "class Population():\n",
        "  def __init__(self, number_population, number_interactions, sick_days):\n",
        "    "
      ],
      "metadata": {
        "id": "3-18q-acVu2h"
      },
      "execution_count": null,
      "outputs": []
    }
  ]
}